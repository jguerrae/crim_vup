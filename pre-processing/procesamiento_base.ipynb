{
 "metadata": {
  "language_info": {
   "codemirror_mode": {
    "name": "ipython",
    "version": 3
   },
   "file_extension": ".py",
   "mimetype": "text/x-python",
   "name": "python",
   "nbconvert_exporter": "python",
   "pygments_lexer": "ipython3",
   "version": "3.7.4-final"
  },
  "orig_nbformat": 2,
  "kernelspec": {
   "name": "python37464bitbasecondad733bc2e8a4842d09a20eae419841056",
   "display_name": "Python 3.7.4 64-bit ('base': conda)"
  }
 },
 "nbformat": 4,
 "nbformat_minor": 2,
 "cells": [
  {
   "cell_type": "code",
   "execution_count": 1,
   "metadata": {},
   "outputs": [],
   "source": [
    "#LIBRERIAS NECESARIAS\n",
    "import pandas as pd\n",
    "import numpy as np"
   ]
  },
  {
   "cell_type": "code",
   "execution_count": null,
   "metadata": {},
   "outputs": [],
   "source": [
    "# DICCIONARIO\n",
    "# Homicidios en accidentes de tránsito = 1 \n",
    "# Hurtos autos = 2\n",
    "# Hurtos a comercio = 3\n",
    "# Hurtos a residencias = 4 \n",
    "# Homicidios = 5 \n",
    "# Hurtos personas = 6\n",
    "# Lesiones transito = 7\n",
    "\n",
    "# for i,e in zip([\"hom_acc\", \"hurt_auto\", \"hurt_comercio\", \"hurt_residencia\", \"homicidios\", \"hurt_personas\", \"lesi_acc\" ], [1,2,3,4,5,6,7]):\n",
    "#     total[\"tipo\"]=total[\"tipo\"].replace(e,i)"
   ]
  },
  {
   "cell_type": "code",
   "execution_count": 16,
   "metadata": {},
   "outputs": [],
   "source": [
    "#1. HOMICIDIOS EN ACCIDENTES DE TRANSITO\n",
    "df=pd.read_excel(\"homicidios-accidentes-transito-2012.xls\", encoding=\"latin-1\")\n",
    "df=df[(df[\"Municipio\"]==\"VALLEDUPAR (CT)\")]\n",
    "\n",
    "#APPEND CON TODOS LOS AÑOS\n",
    "for i in range(13,20):\n",
    "    A=pd.read_excel(f\"homicidios-accidentes-transito-20{i}.xls\", encoding=\"latin-1\")\n",
    "    A=A[(A[\"Municipio\"]==\"VALLEDUPAR (CT)\")]\n",
    "    df=pd.concat([df, A])  \n",
    "\n",
    "#CONVERTIR LAS COLUMNAS A MINUSCULAS\n",
    "c2=[]\n",
    "for i in df.columns:\n",
    "    c2.append(i.lower())\n",
    "df.columns=c2\n",
    "df.columns\n",
    "df.rename(columns={\"día\": \"dia\"}, inplace=True)\n",
    "\n",
    "#CONSERVAR SOLO LAS COLUMNAS DE INTERÉS\n",
    "df=df[['fecha', 'departamento', 'municipio', 'dia', 'hora', 'barrio', 'zona',\n",
    "       'clase de sitio', 'arma empleada', 'móvil agresor', 'móvil victima','cantidad']]\n",
    "\n",
    "#CREAR UNA COLUMNA PARA EL TIPO Y GUARDAR EL ARCHIVO CSV\n",
    "df[\"tipo\"]=\"HT\"\n",
    "df.to_csv(\"1.csv\", encoding=\"latin-1\", index=False)  "
   ]
  },
  {
   "cell_type": "code",
   "execution_count": 23,
   "metadata": {},
   "outputs": [],
   "source": [
    "#2. HURTO DE AUTOMOTORES\n",
    " \n",
    "df=pd.read_excel(\"hurto-de-automotores-2012.xls\", encoding=\"latin-1\")\n",
    "df=df[(df[\"Municipio\"]==\"VALLEDUPAR (CT)\")]\n",
    "\n",
    "for i in range(13,20):\n",
    "    A=pd.read_excel(f\"hurto-de-automotores-20{i}.xls\", encoding=\"latin-1\")\n",
    "    A=A[(A[\"Municipio\"]==\"VALLEDUPAR (CT)\")]\n",
    "    df=pd.concat([df, A])  \n",
    "\n",
    "c2=[]\n",
    "for i in df.columns:\n",
    "    c2.append(i.lower())\n",
    "df.columns=c2\n",
    "df.columns\n",
    "df.rename(columns={\"día\": \"dia\"}, inplace=True)\n",
    "\n",
    "df=df[['fecha', 'departamento', 'municipio', 'dia', 'hora', 'barrio', 'zona',\n",
    "       'clase de sitio', 'arma empleada', 'móvil agresor', 'móvil victima','cantidad']]\n",
    "\n",
    "df[\"tipo\"]=\"HA\"\n",
    "df.to_csv(\"2.csv\", encoding=\"latin-1\", index=False)  "
   ]
  },
  {
   "cell_type": "code",
   "execution_count": 24,
   "metadata": {},
   "outputs": [],
   "source": [
    "#3. HURTO COMERCIO\n",
    " \n",
    "df=pd.read_excel(\"hurto-comercio-2012.xlsx\", encoding=\"latin-1\")\n",
    "df=df[(df[\"Municipio\"]==\"VALLEDUPAR (CT)\")]\n",
    "\n",
    "for i in range(13,20):\n",
    "    A=pd.read_excel(f\"hurto-comercio-20{i}.xlsx\", encoding=\"latin-1\")\n",
    "    A=A[(A[\"Municipio\"]==\"VALLEDUPAR (CT)\")]\n",
    "    df=pd.concat([df, A])  \n",
    "\n",
    "c2=[]\n",
    "for i in df.columns:\n",
    "    c2.append(i.lower())\n",
    "df.columns=c2\n",
    "df.columns\n",
    "df.rename(columns={\"día\": \"dia\"}, inplace=True)\n",
    "\n",
    "df=df[['fecha', 'departamento', 'municipio', 'dia', 'hora', 'barrio', 'zona',\n",
    "       'clase de sitio', 'arma empleada', 'móvil agresor', 'móvil victima','cantidad']]\n",
    "\n",
    "df[\"tipo\"]=\"HC\"\n",
    "df.to_csv(\"3.csv\", encoding=\"latin-1\", index=False) "
   ]
  },
  {
   "cell_type": "code",
   "execution_count": 25,
   "metadata": {},
   "outputs": [],
   "source": [
    "#4. HURTO RESIDENCIAS\n",
    " \n",
    "df=pd.read_excel(\"hurto-residencias-2012.xlsx\", encoding=\"latin-1\")\n",
    "df=df[(df[\"Municipio\"]==\"VALLEDUPAR (CT)\")]\n",
    "\n",
    "for i in range(13,20):\n",
    "    A=pd.read_excel(f\"hurto-residencias-20{i}.xlsx\", encoding=\"latin-1\")\n",
    "    A=A[(A[\"Municipio\"]==\"VALLEDUPAR (CT)\")]\n",
    "    df=pd.concat([df, A])  \n",
    "\n",
    "c2=[]\n",
    "for i in df.columns:\n",
    "    c2.append(i.lower())\n",
    "df.columns=c2\n",
    "df.columns\n",
    "df.rename(columns={\"día\": \"dia\"}, inplace=True)\n",
    "\n",
    "df=df[['fecha', 'departamento', 'municipio', 'dia', 'hora', 'barrio', 'zona',\n",
    "       'clase de sitio', 'arma empleada', 'móvil agresor', 'móvil victima','cantidad']]\n",
    "\n",
    "df[\"tipo\"]=\"HR\"\n",
    "df.to_csv(\"4.csv\", encoding=\"latin-1\", index=False) "
   ]
  },
  {
   "cell_type": "code",
   "execution_count": 7,
   "metadata": {},
   "outputs": [],
   "source": [
    "#5. HOMCIDIOS\n",
    "df=pd.read_excel(\"homicidios-2012.xls\", encoding=\"latin-1\")\n",
    "df=df[(df[\"Municipio\"]==\"VALLEDUPAR (CT)\")]\n",
    "\n",
    "for i in range(13,20):\n",
    "    A=pd.read_excel(f\"homicidios-20{i}.xls\", encoding=\"latin-1\")\n",
    "    A=A[(A[\"Municipio\"]==\"VALLEDUPAR (CT)\")]\n",
    "    df=pd.concat([df, A]) \n",
    "\n",
    "c2=[]\n",
    "for i in df.columns:\n",
    "    c2.append(i.lower())\n",
    "df.columns=c2\n",
    "df.columns\n",
    "\n",
    "df.rename(columns={\"día\": \"dia\"}, inplace=True)\n",
    "\n",
    "df=df[['fecha', 'departamento', 'municipio', 'dia', 'hora', 'barrio', 'zona',\n",
    "       'clase de sitio', 'arma empleada', 'móvil agresor', 'móvil victima','cantidad']]\n",
    "\n",
    "df[\"tipo\"]=\"H\"\n",
    "df.to_csv(\"5.csv\", encoding=\"latin-1\", index=False)\n"
   ]
  },
  {
   "cell_type": "code",
   "execution_count": 50,
   "metadata": {},
   "outputs": [],
   "source": [
    "#6. HURTO A PERSONAS \n",
    "df=pd.read_excel(\"hurto-personas-2012.xlsx\", encoding=\"latin-1\")\n",
    "df=df[(df[\"Municipio\"]==\"VALLEDUPAR (CT)\")]\n",
    "\n",
    "for i in range(13,20):\n",
    "    A=pd.read_excel(f\"hurto-personas-20{i}.xlsx\", encoding=\"latin-1\")\n",
    "    A=A[(A[\"Municipio\"]==\"VALLEDUPAR (CT)\")]\n",
    "    df=pd.concat([df, A])  \n",
    "\n",
    "c2=[]\n",
    "for i in df.columns:\n",
    "    c2.append(i.lower())\n",
    "df.columns=c2\n",
    "df.columns\n",
    "df.rename(columns={\"día\": \"dia\"}, inplace=True)\n",
    "\n",
    "df=df[['fecha', 'departamento', 'municipio', 'dia', 'hora', 'barrio', 'zona',\n",
    "       'clase de sitio', 'arma empleada', 'móvil agresor', 'móvil victima','cantidad']]\n",
    "\n",
    "df[\"tipo\"]=\"HP\"\n",
    "df.to_csv(\"6.csv\", encoding=\"latin-1\", index=False)  "
   ]
  },
  {
   "cell_type": "code",
   "execution_count": 66,
   "metadata": {},
   "outputs": [],
   "source": [
    "#7. LESIONES EN ACCIDENTES DE TRANSITO \n",
    "df=pd.read_excel(\"lesiones_en_accidente_de_transito_2012_0.xlsx\", encoding=\"latin-1\")\n",
    "df=df[(df[\"MUNICIPIO\"]==\"VALLEDUPAR (CT)\")]\n",
    "\n",
    "for i in range(13,20):\n",
    "    A=pd.read_excel(f\"lesiones_en_accidente_de_transito_20{i}_0.xlsx\", encoding=\"latin-1\")\n",
    "    A=A[(A[\"MUNICIPIO\"]==\"VALLEDUPAR (CT)\")]\n",
    "    df=pd.concat([df, A])  \n",
    "\n",
    "#CREAR EL DÍA Y REEMPLAZARLO POR EL NOMBRE EL ESPAÑOL\n",
    "df[\"dia\"]=df[\"FECHA HECHO\"].map(lambda x: x.strftime(\"%A\"))\n",
    "for i,e in zip(['Friday', 'Saturday', 'Monday', 'Tuesday', 'Thursday', 'Sunday','Wednesday'], [\"Viernes\", \"Sábado\", \"Lunes\", \"Martes\", \"Jueves\", \"Domingo\", \"Miércoles\"]):\n",
    "    df[\"dia\"]=df[\"dia\"].replace(i, e)\n",
    "\n",
    "#CREAR COLUMNAS DE INTERÉS PARA PODER HACER EL APPEND CON LOS DEMÁS ARCHIVOS\n",
    "df[\"fecha\"]=df[\"FECHA HECHO\"]\n",
    "df[\"hora\"] = np.nan\n",
    "df[\"barrio\"] = np.nan\n",
    "df[\"zona\"] = np.nan\n",
    "df[\"clase de sitio\"] = np.nan\n",
    "df[\"arma empleada\"] = np.nan\n",
    "df[\"móvil agresor\"] = df[\"ARMAS MEDIOS\"]\n",
    "df[\"cantidad\"] = df[\"CANTIDAD\"]\n",
    "df[\"móvil victima\"] = np.nan\n",
    "df[\"municipio\"] = df[\"MUNICIPIO\"]\n",
    "df[\"departamento\"] = df[\"DEPARTAMENTO\"]\n",
    "\n",
    "#CONSERVAR SOLO COLUMNAS DE INTERÉS\n",
    "df=df[['fecha', 'departamento', 'municipio', 'dia', 'hora', 'barrio', 'zona',\n",
    "       'clase de sitio', 'arma empleada', 'móvil agresor', 'móvil victima','cantidad']]\n",
    "\n",
    "\n",
    "#CONVERTIR COLUMNAS A MINUSCULAS\n",
    "c2=[]\n",
    "for i in df.columns:\n",
    "    c2.append(i.lower())\n",
    "df.columns=c2\n",
    "df.columns\n",
    "df.rename(columns={\"día\": \"dia\"}, inplace=True)\n",
    "\n",
    "\n",
    "#GUARDAR\n",
    "df[\"tipo\"]=\"LT\"\n",
    "df.to_csv(\"7.csv\", encoding=\"latin-1\", index=False) "
   ]
  },
  {
   "cell_type": "code",
   "execution_count": 3,
   "metadata": {},
   "outputs": [],
   "source": [
    "#APPEND ENTRE LAS DISTINTAS LIBRERIAS\n",
    "df=pd.read_csv(\"1.csv\", encoding=\"latin-1\")\n",
    "for i in range(2,8):\n",
    "    A=pd.read_csv(f\"{i}.csv\", encoding=\"latin-1\")\n",
    "    df=pd.concat([df, A])\n",
    "\n",
    "df=df.replace(\"-\", np.nan)"
   ]
  },
  {
   "cell_type": "code",
   "execution_count": 5,
   "metadata": {},
   "outputs": [],
   "source": [
    "df.to_csv('delitos_totales.csv', encoding=\"latin-1\", index=False)"
   ]
  },
  {
   "cell_type": "code",
   "execution_count": 7,
   "metadata": {},
   "outputs": [
    {
     "output_type": "execute_result",
     "data": {
      "text/plain": [
       "Index(['fecha', 'departamento', 'municipio', 'dia', 'hora', 'barrio', 'zona',\n",
       "       'clase de sitio', 'arma empleada', 'móvil agresor', 'móvil victima',\n",
       "       'cantidad', 'tipo'],\n",
       "      dtype='object')"
      ]
     },
     "metadata": {},
     "execution_count": 7
    }
   ],
   "source": [
    "df.columns"
   ]
  },
  {
   "cell_type": "code",
   "execution_count": null,
   "metadata": {},
   "outputs": [],
   "source": []
  }
 ]
}