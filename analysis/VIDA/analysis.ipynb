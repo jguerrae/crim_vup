{
 "metadata": {
  "language_info": {
   "codemirror_mode": {
    "name": "ipython",
    "version": 3
   },
   "file_extension": ".py",
   "mimetype": "text/x-python",
   "name": "python",
   "nbconvert_exporter": "python",
   "pygments_lexer": "ipython3",
   "version": "3.7.4-final"
  },
  "orig_nbformat": 2,
  "kernelspec": {
   "name": "python37464bitbasecondad733bc2e8a4842d09a20eae419841056",
   "display_name": "Python 3.7.4 64-bit ('base': conda)",
   "language": "python"
  }
 },
 "nbformat": 4,
 "nbformat_minor": 2,
 "cells": [
  {
   "source": [
    "# PANEL 2012-2019 DE DELITOS COMETIDOS EN LA CIUDAD DE VALLEDUPAR: CONTRA LA VIDA\n",
    "\n",
    "A nivel de delito cometido. El presente script es para generar un análisis de lso delitos cometidos en la ciudad de Valledupar \n"
   ],
   "cell_type": "markdown",
   "metadata": {}
  },
  {
   "cell_type": "code",
   "execution_count": 14,
   "metadata": {},
   "outputs": [
    {
     "output_type": "execute_result",
     "data": {
      "text/plain": [
       "60"
      ]
     },
     "metadata": {},
     "execution_count": 14
    }
   ],
   "source": [
    "import pandas as pd \n",
    "pd.options.display.max_rows"
   ]
  },
  {
   "cell_type": "code",
   "execution_count": 15,
   "metadata": {},
   "outputs": [],
   "source": [
    "import pandas as pd\n",
    "import numpy as np\n",
    "from datetime import datetime\n",
    "import matplotlib.pyplot as plt"
   ]
  },
  {
   "cell_type": "code",
   "execution_count": 16,
   "metadata": {},
   "outputs": [],
   "source": [
    "data1 = np.zeros((630000000),dtype=int)"
   ]
  },
  {
   "cell_type": "code",
   "execution_count": 17,
   "metadata": {},
   "outputs": [
    {
     "output_type": "execute_result",
     "data": {
      "text/plain": [
       "630000000"
      ]
     },
     "metadata": {},
     "execution_count": 17
    }
   ],
   "source": [
    "len(data1)"
   ]
  },
  {
   "cell_type": "code",
   "execution_count": 18,
   "metadata": {},
   "outputs": [],
   "source": [
    "df=pd.read_csv(\"delitos_totales.csv\", encoding=\"latin-1\")"
   ]
  },
  {
   "cell_type": "code",
   "execution_count": 19,
   "metadata": {},
   "outputs": [
    {
     "output_type": "execute_result",
     "data": {
      "text/plain": [
       "Index(['fecha', 'departamento', 'municipio', 'dia', 'hora', 'barrio', 'zona',\n",
       "       'clase de sitio', 'arma empleada', 'móvil agresor', 'móvil victima',\n",
       "       'cantidad', 'tipo'],\n",
       "      dtype='object')"
      ]
     },
     "metadata": {},
     "execution_count": 19
    }
   ],
   "source": [
    "df.columns"
   ]
  },
  {
   "cell_type": "code",
   "execution_count": 20,
   "metadata": {},
   "outputs": [
    {
     "output_type": "execute_result",
     "data": {
      "text/plain": [
       "array(['CONDUCTOR MOTOCICLETA', 'VEHICULO', 'CONDUCTOR VEHICULO',\n",
       "       'PASAJERO METRO', nan, 'CONDUCTOR BUS', 'A PIE',\n",
       "       'PASAJERO MOTOCICLETA', 'PASAJERO VEHICULO', 'PASAJERO BUS',\n",
       "       'PASAJERO TAXI', 'CONDUCTOR TAXI', 'NO REPORTADO', 'BICICLETA',\n",
       "       'PASAJERO AERONAVE', 'MOTO', 'SIN EMPLEO DE ARMAS', 'ESCOPOLAMINA',\n",
       "       'CONTUNDENTES', 'ARMA BLANCA / CORTOPUNZANTE'], dtype=object)"
      ]
     },
     "metadata": {},
     "execution_count": 20
    }
   ],
   "source": [
    "df[\"móvil agresor\"].unique()"
   ]
  },
  {
   "source": [
    "## 1. PROCESAMIENTO INICIAL"
   ],
   "cell_type": "markdown",
   "metadata": {}
  },
  {
   "cell_type": "code",
   "execution_count": 21,
   "metadata": {},
   "outputs": [],
   "source": [
    "#CAMBIAR LOS NOMBRES DE TIPOS DE DELITOS\n",
    "\n",
    "for i,e in zip(['HT', 'HA', 'HC', 'HR', 'H', 'HP', 'LT'], [\"hom_acc\", \"hurt_auto\", \"hurt_comercio\", \"hurt_residencia\", \"homicidios\", \"hur_personas\", \"les_acc\"]):\n",
    "    df[\"tipo\"]=df[\"tipo\"].replace(i,e)"
   ]
  },
  {
   "cell_type": "code",
   "execution_count": 22,
   "metadata": {},
   "outputs": [],
   "source": [
    "df = df[(df[\"tipo\"]==\"hom_acc\") | (df[\"tipo\"]==\"homicidios\") | (df[\"tipo\"]==\"less_acc\")]"
   ]
  },
  {
   "cell_type": "code",
   "execution_count": 23,
   "metadata": {},
   "outputs": [],
   "source": [
    "#FECHA A FORNATO DATETIME\n",
    "df[\"fecha\"]=pd.to_datetime(df[\"fecha\"])\n",
    "\n",
    "#DIAS A MINÚSCULAS\n",
    "df[\"dia\"]=df[\"dia\"].str.lower()\n",
    "\n",
    "#CREAR COLUMNA DE AÑO-MES\n",
    "df[\"año-mes\"]=df[\"fecha\"].dt.strftime('%Y-%m')\n",
    "\n",
    "#CREAR COLUMNAS DE AÑO-SEMANA\n",
    "df['año-semana'] = df['fecha'].dt.strftime('%Y-%U') # crear año - semana\n",
    "\n",
    "#DUMMIE SI EL HECHO FUE ANTES O DESPUÉS DE LA POLÍTÍCA: se anunció el 22\n",
    "df[\"D\"]=df[\"fecha\"].map(lambda x: 1 if x>datetime.strptime(\"2014-07-26\", '%Y-%m-%d').date() else 0)\n",
    "\n",
    "#DUMMIE SI EL DELITO FUE COMETIDO EN MOTOCICLETE\n",
    "df[\"moto\"]=df[\"móvil agresor\"].map(lambda x: 1 if x==\"CONDUCTOR MOTOCICLETA\" or x==\"PASAJERO MOTOCICLETA\" or x==\"MOTO\"  else 0) \n",
    "\n",
    "#PODER AJUSTAR VENTANA TEMPORAL\n",
    "df=df[(df[\"fecha\"]>datetime.strptime(\"2012-07-26\", \"%Y-%m-%d\").date()) & (df[\"fecha\"]<datetime.strptime(\"2016-07-26\", \"%Y-%m-%d\").date()) ] #Ajustar ventana temporal"
   ]
  },
  {
   "cell_type": "code",
   "execution_count": 24,
   "metadata": {},
   "outputs": [],
   "source": [
    "#BARRIOS MÁS PELIGROSOS\n",
    "barrios=df.groupby(\"barrio\")[\"cantidad\"].sum().sort_values(ascending=False).reset_index()\n",
    "\n",
    "#OBTENER EL P90 DE LOS BARRIOS MAS PELIGROSOS\n",
    "p90=np.percentile(barrios[\"cantidad\"], 90, axis=0)\n",
    "\n",
    "#CREAR DUMMIE DE SI EL BARRIO ES O NO PELIGRSOS\n",
    "barrios[\"peligroso\"]=barrios[\"cantidad\"].apply(lambda x: 1 if x>p90 else 0 )\n",
    "\n",
    "barrios=barrios[[\"barrio\", \"peligroso\"]]\n",
    "\n",
    "#MERGE CON LA BASE PRINCIPAL\n",
    "df = pd.merge(df, barrios, how=\"left\", on=\"barrio\")"
   ]
  },
  {
   "source": [
    "## 2. ANÁLISIS GENERAL"
   ],
   "cell_type": "markdown",
   "metadata": {}
  },
  {
   "cell_type": "code",
   "execution_count": 25,
   "metadata": {},
   "outputs": [
    {
     "output_type": "stream",
     "name": "stdout",
     "text": [
      "ANTES\n            cantidad                                             \ndia         domingo jueves lunes martes miércoles sábado viernes\ntipo                                                            \nhom_acc          30     17    13     10        10     15      12\nhomicidios       38     19    19     22        25     29      14 \n\n DESPUÉS\n            cantidad                                             \ndia         domingo jueves lunes martes miércoles sábado viernes\ntipo                                                            \nhom_acc          16     15    18      9         6     20       6\nhomicidios       47     26    14     14        19     33      28 \n\n VENTANA\n            cantidad                                             \ndia         domingo jueves lunes martes miércoles sábado viernes\ntipo                                                            \nhom_acc          46     32    31     19        16     35      18\nhomicidios       85     45    33     36        44     62      42\n"
     ]
    }
   ],
   "source": [
    "#1. DELITOS ANTES Y DESPUÉS POR TIPO Y DÍA\n",
    "bef_tipo=df[df[\"D\"]==0].pivot_table(index='tipo', columns='dia', aggfunc={'cantidad':sum}, margins=False).replace(np.nan, 0)\n",
    "aft_tipo=df[df[\"D\"]==1].pivot_table(index='tipo', columns='dia', aggfunc={'cantidad':sum}, margins=False).replace(np.nan, 0)\n",
    "aft_bef=df.pivot_table(index='tipo', columns='dia', aggfunc={'cantidad':sum}, margins=False).replace(np.nan, 0)\n",
    "print(\"ANTES\\n\", bef_tipo ,\"\\n\\n\", \"DESPUÉS\\n\", aft_tipo, \"\\n\\n VENTANA\\n\", aft_bef )"
   ]
  },
  {
   "cell_type": "code",
   "execution_count": 26,
   "metadata": {},
   "outputs": [
    {
     "output_type": "stream",
     "name": "stdout",
     "text": [
      "ANTES\n            cantidad                                             \ndia         domingo jueves lunes martes miércoles sábado viernes\ntipo                                                            \nhom_acc           9      4     5      5         4      8       5\nhomicidios        4      3     4      3         7      4       2 \n\n DESPUÉS\n            cantidad                                             \ndia         domingo jueves lunes martes miércoles sábado viernes\ntipo                                                            \nhom_acc           9      4     5      5         4      8       5\nhomicidios        4      3     4      3         7      4       2 \n\n VENTANA\n            cantidad                                             \ndia         domingo jueves lunes martes miércoles sábado viernes\ntipo                                                            \nhom_acc          21      7     7     10         9     16       9\nhomicidios       17      7     6      7        12     13       5\n"
     ]
    }
   ],
   "source": [
    "#2. DELITOS ANTES Y DESPUÉS POR TIPO Y DÍA: COMETIDOS EN MOTO\n",
    "\n",
    "bef_tipo=df[(df[\"D\"]==0) & (df[\"moto\"]==1)].pivot_table(index='tipo', columns='dia', aggfunc={'cantidad':sum}, margins=False).replace(np.nan, 0)\n",
    "aft_tipo=df[(df[\"D\"]==0) & (df[\"moto\"]==1)].pivot_table(index='tipo', columns='dia', aggfunc={'cantidad':sum}, margins=False).replace(np.nan, 0)\n",
    "aft_bef=df[(df[\"moto\"]==1)].pivot_table(index='tipo', columns='dia', aggfunc={'cantidad':sum}, margins=False).replace(np.nan, 0)\n",
    "print(\"ANTES\\n\", bef_tipo ,\"\\n\\n\", \"DESPUÉS\\n\", aft_tipo, \"\\n\\n VENTANA\\n\", aft_bef )"
   ]
  },
  {
   "source": [
    "# 4. PREPARACIÓN DE LA BASE"
   ],
   "cell_type": "markdown",
   "metadata": {}
  },
  {
   "cell_type": "code",
   "execution_count": 32,
   "metadata": {},
   "outputs": [],
   "source": [
    "#1.CONVERTIR LA BASE DE DELITOS A DELITOS POR DÍA\n",
    "general=df.groupby([\"fecha\"])[\"cantidad\"].sum().reset_index()\n",
    "\n",
    "#2.CREAR UN ESQUELETO DE LA VENTANA ANTERIOR YA QUE HAY DIAS (POCOS, QUE NO TIENEN NINGUN DELITO)\n",
    "ventana_c=pd.date_range(\"2012-07-27\", \"2016-07-25\").to_series().reset_index()\n",
    "ventana_c=ventana_c.rename(columns={\"index\":\"index\", 0:\"fecha\"})\n",
    "\n",
    "#crear la columna de días\n",
    "ventana_c[\"dia\"]=ventana_c[\"fecha\"].map(lambda x: x.strftime(\"%A\"))\n",
    "for i,e in zip(['Friday', 'Saturday', 'Monday', 'Tuesday', 'Thursday', 'Sunday','Wednesday'], [\"viernes\", \"sábado\", \"lunes\", \"martes\", \"jueves\", \"domingo\", \"miércoles\"]):\n",
    "    ventana_c[\"dia\"]=ventana_c[\"dia\"].replace(i, e)\n",
    "ventana_c.drop(columns=\"index\", inplace=True)\n",
    "\n",
    "#3. MERGE DE LA BASE 2 CON LA 1\n",
    "db=pd.merge(ventana_c, general , how=\"left\", on=\"fecha\").replace(np.nan, 0)"
   ]
  },
  {
   "cell_type": "code",
   "execution_count": 33,
   "metadata": {},
   "outputs": [],
   "source": [
    "#CREAR COLUMNAS IMPORTANTES PARA LA REGRESIÓN\n",
    "\n",
    "#Quiero efectos fijos de mes y de día\n",
    "db[\"n_year\"]=db[\"fecha\"].dt.year\n",
    "\n",
    "#MES\n",
    "db[\"n_month\"]=db[\"fecha\"].dt.month\n",
    "\n",
    "#NÚMERO DE DÍA\n",
    "db[\"n_day\"]=db[\"dia\"]\n",
    "for i,e in zip([\"lunes\",\"martes\",\"miércoles\",\"jueves\",\"viernes\",\"sábado\",\"domingo\"], [1,2,3,4,5,6,7]):\n",
    "    db[\"n_day\"]=db[\"n_day\"].replace(i,e)\n",
    "\n",
    "\n",
    "\n",
    "#DUMMIE SI EL HECHO FUE ANTES O DESPUÉS DE LA POLÍTÍCA: se anunció el 22\n",
    "db[\"D\"]=db[\"fecha\"].map(lambda x: 1 if x>datetime.strptime(\"2014-07-26\", '%Y-%m-%d').date() else 0)\n",
    "\n",
    "#DUMMIE EI EL HECHO FUE EL SABADO\n",
    "db[\"S\"]=db[\"dia\"].map(lambda x: 1 if x==\"sábado\" else 0)\n",
    "\n",
    "\n",
    "\n",
    "#PLACEBOS ANTES\n",
    "\n",
    "#DUMMIE SI PLACEBO (2 MESES ANTES)\n",
    "db[\"D_1\"]=db[\"fecha\"].map(lambda x: 1 if x>datetime.strptime(\"2014-05-26\", '%Y-%m-%d').date() else 0)\n",
    "\n",
    "#DUMMIE SI PLACEBO (4 MESES ANTES)\n",
    "db[\"D_2\"]=db[\"fecha\"].map(lambda x: 1 if x>datetime.strptime(\"2014-03-26\", '%Y-%m-%d').date() else 0)\n",
    "\n",
    "#DUMMIE SI PLACEBO (6 MESES ANTES)\n",
    "db[\"D_3\"]=db[\"fecha\"].map(lambda x: 1 if x>datetime.strptime(\"2014-01-26\", '%Y-%m-%d').date() else 0)\n",
    "\n",
    "\n",
    "\n",
    "#PLACEBOS DESPUÉS\n",
    "\n",
    "#DUMMIE SI PLACEBO (2 MESES DESPUÉS)\n",
    "db[\"D1\"]=db[\"fecha\"].map(lambda x: 1 if x>datetime.strptime(\"2014-09-26\", '%Y-%m-%d').date() else 0)\n",
    "\n",
    "#DUMMIE SI PLACEBO (4 MESES DESPUÉS)\n",
    "db[\"D2\"]=db[\"fecha\"].map(lambda x: 1 if x>datetime.strptime(\"2014-11-26\", '%Y-%m-%d').date() else 0)\n",
    "\n",
    "#DUMMIE SI PLACEBO (6 MESES DESPUÉS)\n",
    "db[\"D3\"]=db[\"fecha\"].map(lambda x: 1 if x>datetime.strptime(\"2015-01-26\", '%Y-%m-%d').date() else 0)\n",
    "\n",
    "\n",
    "\n",
    "\n",
    "#INTERACCIONES\n",
    "\n",
    "#DUMMIE SI EL HECHO FUE ANTES O DESPUÉS DE LA POLÍTÍCA: se anunció el 22\n",
    "db[\"SD\"]=db[\"D\"]*db[\"S\"]\n",
    "\n",
    "\n",
    "#PLACEBOS ANTES\n",
    "\n",
    "#DUMMIE SI PLACEBO (2 MESES ANTES)\n",
    "db[\"SD_1\"]=db[\"D_1\"]*db[\"S\"]\n",
    "\n",
    "#DUMMIE SI PLACEBO (4 MESES ANTES)\n",
    "db[\"SD_2\"]=db[\"D_2\"]*db[\"S\"]\n",
    "\n",
    "#DUMMIE SI PLACEBO (6 MESES ANTES)\n",
    "db[\"SD_3\"]=db[\"D_3\"]*db[\"S\"]\n",
    "\n",
    "\n",
    "#PLACEBOS DESPUÉS\n",
    "\n",
    "#DUMMIE SI PLACEBO (2 MESES DESPUÉS)\n",
    "db[\"SD1\"]=db[\"D1\"]*db[\"S\"]\n",
    "\n",
    "#DUMMIE SI PLACEBO (4 MESES DESPUÉS)\n",
    "db[\"SD2\"]=db[\"D2\"]*db[\"S\"]\n",
    "\n",
    "#DUMMIE SI PLACEBO (6 MESES DESPUÉS)\n",
    "db[\"SD3\"]=db[\"D3\"]*db[\"S\"]\n"
   ]
  },
  {
   "cell_type": "code",
   "execution_count": 34,
   "metadata": {},
   "outputs": [
    {
     "output_type": "execute_result",
     "data": {
      "text/plain": [
       "          fecha      dia  cantidad  n_year  n_month  n_day  D  S  D_1  D_2  \\\n",
       "0    2012-07-27  viernes       0.0    2012        7      5  0  0    0    0   \n",
       "1    2012-07-28   sábado       0.0    2012        7      6  0  1    0    0   \n",
       "2    2012-07-29  domingo       1.0    2012        7      7  0  0    0    0   \n",
       "3    2012-07-30    lunes       0.0    2012        7      1  0  0    0    0   \n",
       "4    2012-07-31   martes       0.0    2012        7      2  0  0    0    0   \n",
       "...         ...      ...       ...     ...      ...    ... .. ..  ...  ...   \n",
       "1455 2016-07-21   jueves       1.0    2016        7      4  1  0    1    1   \n",
       "1456 2016-07-22  viernes       1.0    2016        7      5  1  0    1    1   \n",
       "1457 2016-07-23   sábado       0.0    2016        7      6  1  1    1    1   \n",
       "1458 2016-07-24  domingo       1.0    2016        7      7  1  0    1    1   \n",
       "1459 2016-07-25    lunes       0.0    2016        7      1  1  0    1    1   \n",
       "\n",
       "      ...  D1  D2  D3  SD  SD_1  SD_2  SD_3  SD1  SD2  SD3  \n",
       "0     ...   0   0   0   0     0     0     0    0    0    0  \n",
       "1     ...   0   0   0   0     0     0     0    0    0    0  \n",
       "2     ...   0   0   0   0     0     0     0    0    0    0  \n",
       "3     ...   0   0   0   0     0     0     0    0    0    0  \n",
       "4     ...   0   0   0   0     0     0     0    0    0    0  \n",
       "...   ...  ..  ..  ..  ..   ...   ...   ...  ...  ...  ...  \n",
       "1455  ...   1   1   1   0     0     0     0    0    0    0  \n",
       "1456  ...   1   1   1   0     0     0     0    0    0    0  \n",
       "1457  ...   1   1   1   1     1     1     1    1    1    1  \n",
       "1458  ...   1   1   1   0     0     0     0    0    0    0  \n",
       "1459  ...   1   1   1   0     0     0     0    0    0    0  \n",
       "\n",
       "[1460 rows x 21 columns]"
      ],
      "text/html": "<div>\n<style scoped>\n    .dataframe tbody tr th:only-of-type {\n        vertical-align: middle;\n    }\n\n    .dataframe tbody tr th {\n        vertical-align: top;\n    }\n\n    .dataframe thead th {\n        text-align: right;\n    }\n</style>\n<table border=\"1\" class=\"dataframe\">\n  <thead>\n    <tr style=\"text-align: right;\">\n      <th></th>\n      <th>fecha</th>\n      <th>dia</th>\n      <th>cantidad</th>\n      <th>n_year</th>\n      <th>n_month</th>\n      <th>n_day</th>\n      <th>D</th>\n      <th>S</th>\n      <th>D_1</th>\n      <th>D_2</th>\n      <th>...</th>\n      <th>D1</th>\n      <th>D2</th>\n      <th>D3</th>\n      <th>SD</th>\n      <th>SD_1</th>\n      <th>SD_2</th>\n      <th>SD_3</th>\n      <th>SD1</th>\n      <th>SD2</th>\n      <th>SD3</th>\n    </tr>\n  </thead>\n  <tbody>\n    <tr>\n      <td>0</td>\n      <td>2012-07-27</td>\n      <td>viernes</td>\n      <td>0.0</td>\n      <td>2012</td>\n      <td>7</td>\n      <td>5</td>\n      <td>0</td>\n      <td>0</td>\n      <td>0</td>\n      <td>0</td>\n      <td>...</td>\n      <td>0</td>\n      <td>0</td>\n      <td>0</td>\n      <td>0</td>\n      <td>0</td>\n      <td>0</td>\n      <td>0</td>\n      <td>0</td>\n      <td>0</td>\n      <td>0</td>\n    </tr>\n    <tr>\n      <td>1</td>\n      <td>2012-07-28</td>\n      <td>sábado</td>\n      <td>0.0</td>\n      <td>2012</td>\n      <td>7</td>\n      <td>6</td>\n      <td>0</td>\n      <td>1</td>\n      <td>0</td>\n      <td>0</td>\n      <td>...</td>\n      <td>0</td>\n      <td>0</td>\n      <td>0</td>\n      <td>0</td>\n      <td>0</td>\n      <td>0</td>\n      <td>0</td>\n      <td>0</td>\n      <td>0</td>\n      <td>0</td>\n    </tr>\n    <tr>\n      <td>2</td>\n      <td>2012-07-29</td>\n      <td>domingo</td>\n      <td>1.0</td>\n      <td>2012</td>\n      <td>7</td>\n      <td>7</td>\n      <td>0</td>\n      <td>0</td>\n      <td>0</td>\n      <td>0</td>\n      <td>...</td>\n      <td>0</td>\n      <td>0</td>\n      <td>0</td>\n      <td>0</td>\n      <td>0</td>\n      <td>0</td>\n      <td>0</td>\n      <td>0</td>\n      <td>0</td>\n      <td>0</td>\n    </tr>\n    <tr>\n      <td>3</td>\n      <td>2012-07-30</td>\n      <td>lunes</td>\n      <td>0.0</td>\n      <td>2012</td>\n      <td>7</td>\n      <td>1</td>\n      <td>0</td>\n      <td>0</td>\n      <td>0</td>\n      <td>0</td>\n      <td>...</td>\n      <td>0</td>\n      <td>0</td>\n      <td>0</td>\n      <td>0</td>\n      <td>0</td>\n      <td>0</td>\n      <td>0</td>\n      <td>0</td>\n      <td>0</td>\n      <td>0</td>\n    </tr>\n    <tr>\n      <td>4</td>\n      <td>2012-07-31</td>\n      <td>martes</td>\n      <td>0.0</td>\n      <td>2012</td>\n      <td>7</td>\n      <td>2</td>\n      <td>0</td>\n      <td>0</td>\n      <td>0</td>\n      <td>0</td>\n      <td>...</td>\n      <td>0</td>\n      <td>0</td>\n      <td>0</td>\n      <td>0</td>\n      <td>0</td>\n      <td>0</td>\n      <td>0</td>\n      <td>0</td>\n      <td>0</td>\n      <td>0</td>\n    </tr>\n    <tr>\n      <td>...</td>\n      <td>...</td>\n      <td>...</td>\n      <td>...</td>\n      <td>...</td>\n      <td>...</td>\n      <td>...</td>\n      <td>...</td>\n      <td>...</td>\n      <td>...</td>\n      <td>...</td>\n      <td>...</td>\n      <td>...</td>\n      <td>...</td>\n      <td>...</td>\n      <td>...</td>\n      <td>...</td>\n      <td>...</td>\n      <td>...</td>\n      <td>...</td>\n      <td>...</td>\n      <td>...</td>\n    </tr>\n    <tr>\n      <td>1455</td>\n      <td>2016-07-21</td>\n      <td>jueves</td>\n      <td>1.0</td>\n      <td>2016</td>\n      <td>7</td>\n      <td>4</td>\n      <td>1</td>\n      <td>0</td>\n      <td>1</td>\n      <td>1</td>\n      <td>...</td>\n      <td>1</td>\n      <td>1</td>\n      <td>1</td>\n      <td>0</td>\n      <td>0</td>\n      <td>0</td>\n      <td>0</td>\n      <td>0</td>\n      <td>0</td>\n      <td>0</td>\n    </tr>\n    <tr>\n      <td>1456</td>\n      <td>2016-07-22</td>\n      <td>viernes</td>\n      <td>1.0</td>\n      <td>2016</td>\n      <td>7</td>\n      <td>5</td>\n      <td>1</td>\n      <td>0</td>\n      <td>1</td>\n      <td>1</td>\n      <td>...</td>\n      <td>1</td>\n      <td>1</td>\n      <td>1</td>\n      <td>0</td>\n      <td>0</td>\n      <td>0</td>\n      <td>0</td>\n      <td>0</td>\n      <td>0</td>\n      <td>0</td>\n    </tr>\n    <tr>\n      <td>1457</td>\n      <td>2016-07-23</td>\n      <td>sábado</td>\n      <td>0.0</td>\n      <td>2016</td>\n      <td>7</td>\n      <td>6</td>\n      <td>1</td>\n      <td>1</td>\n      <td>1</td>\n      <td>1</td>\n      <td>...</td>\n      <td>1</td>\n      <td>1</td>\n      <td>1</td>\n      <td>1</td>\n      <td>1</td>\n      <td>1</td>\n      <td>1</td>\n      <td>1</td>\n      <td>1</td>\n      <td>1</td>\n    </tr>\n    <tr>\n      <td>1458</td>\n      <td>2016-07-24</td>\n      <td>domingo</td>\n      <td>1.0</td>\n      <td>2016</td>\n      <td>7</td>\n      <td>7</td>\n      <td>1</td>\n      <td>0</td>\n      <td>1</td>\n      <td>1</td>\n      <td>...</td>\n      <td>1</td>\n      <td>1</td>\n      <td>1</td>\n      <td>0</td>\n      <td>0</td>\n      <td>0</td>\n      <td>0</td>\n      <td>0</td>\n      <td>0</td>\n      <td>0</td>\n    </tr>\n    <tr>\n      <td>1459</td>\n      <td>2016-07-25</td>\n      <td>lunes</td>\n      <td>0.0</td>\n      <td>2016</td>\n      <td>7</td>\n      <td>1</td>\n      <td>1</td>\n      <td>0</td>\n      <td>1</td>\n      <td>1</td>\n      <td>...</td>\n      <td>1</td>\n      <td>1</td>\n      <td>1</td>\n      <td>0</td>\n      <td>0</td>\n      <td>0</td>\n      <td>0</td>\n      <td>0</td>\n      <td>0</td>\n      <td>0</td>\n    </tr>\n  </tbody>\n</table>\n<p>1460 rows × 21 columns</p>\n</div>"
     },
     "metadata": {},
     "execution_count": 34
    }
   ],
   "source": [
    "db"
   ]
  },
  {
   "cell_type": "code",
   "execution_count": 35,
   "metadata": {},
   "outputs": [],
   "source": [
    "db.to_stata(\"db.dta\", encoding=\"latin-1\")"
   ]
  },
  {
   "source": [
    "reg cantidad "
   ],
   "cell_type": "markdown",
   "metadata": {}
  }
 ]
}